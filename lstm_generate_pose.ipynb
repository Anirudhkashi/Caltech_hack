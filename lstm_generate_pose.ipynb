{
 "cells": [
  {
   "cell_type": "code",
   "execution_count": null,
   "metadata": {},
   "outputs": [],
   "source": [
    "import tensorflow as tf\n",
    "import numpy\n",
    "import utils\n",
    "\n",
    "import keras\n",
    "from keras.layers import Input, LSTM, LSTMCell\n",
    "from keras.callbacks import Tensorboard"
   ]
  },
  {
   "cell_type": "code",
   "execution_count": null,
   "metadata": {},
   "outputs": [],
   "source": [
    "n_h = 128\n",
    "\n",
    "# Input shape (M, T, P)\n",
    "X_train, Y_train, X_test, Y_test = utils.getGenerativeSequence()\n",
    "M, Tx, n_values = X_train.shape\n",
    "Ty = 15"
   ]
  },
  {
   "cell_type": "code",
   "execution_count": null,
   "metadata": {},
   "outputs": [],
   "source": [
    "reshapor = Reshape((1, n_values))\n",
    "LSTM_cell_layer1 = LSTM(n_h, activation='relu', return_state=True)\n",
    "# LSTM_cell_layer2 = LSTM(n_h, return_state = True)\n",
    "# LSTM_cell_layer3 = LSTM(n_h, return_state = True)\n",
    "densor = Dense(n_values)\n",
    "intermmediate_out = Dense(n_h, activation='relu')"
   ]
  },
  {
   "cell_type": "code",
   "execution_count": null,
   "metadata": {},
   "outputs": [],
   "source": [
    "# def lstmModel3Layers(Tx, n_h , n_values):\n",
    "    \n",
    "#     X_inp = Input(shape=(Tx, n_values))\n",
    "    \n",
    "#     a10 = Input(shape=(n_h,), name='a1')\n",
    "#     c10 = Input(shape=(n_h,), name='c1')\n",
    "#     a1 = a10\n",
    "#     c1 = c10\n",
    "    \n",
    "#     a20 = Input(shape=(n_h,), name='a2')\n",
    "#     c20 = Input(shape=(n_h,), name='c2')\n",
    "#     a2 = a20\n",
    "#     c2 = c20\n",
    "    \n",
    "#     a30 = Input(shape=(n_h,), name='a3')\n",
    "#     c30 = Input(shape=(n_h,), name='c3')\n",
    "#     a3 = a30\n",
    "#     c3 = c30\n",
    "    \n",
    "#     outputs = []\n",
    "    \n",
    "#     for t in range(Tx):\n",
    "        \n",
    "#         x = Lambda(lambda x: X[:,t,:])(X)\n",
    "#         x = reshapor(x)\n",
    "#         a1, _, c1 = LSTM_cell_layer1(x, initial_state=[a1, c1])\n",
    "#         out_hidden1 = intermmediate_out(a1)\n",
    "        \n",
    "#         a2, _, c2 = LSTM_cell_layer2(out_hidden1, initial_state=[a2, c2])\n",
    "#         out_hidden2 = intermmediate_out(a2)\n",
    "        \n",
    "#         a3, _, c3 = LSTM_cell_layer3(out_hidden2, initial_state=[a3, c3])\n",
    "#         out = densor(a3)\n",
    "#         outputs.append(out)\n",
    "        \n",
    "#     model = Model([X, a10, c10, a20, c20, a30, c30], outputs)\n",
    "    \n",
    "#     return model"
   ]
  },
  {
   "cell_type": "code",
   "execution_count": null,
   "metadata": {},
   "outputs": [],
   "source": [
    "def lstmModel1LayerTrain(Tx, Ty, n_h, n_a, n_values):\n",
    "    \n",
    "    X_inp = Input(shape=(Tx, n_values))\n",
    "    \n",
    "    s0 = Input(shape=(n_h,), name='s0')\n",
    "    c0 = Input(shape=(n_h,), name='c0')\n",
    "    s = s0\n",
    "    c = c0\n",
    "    \n",
    "    outputs = []\n",
    "    \n",
    "    a = LSTM(n_a, activation='relu')(X_inp)\n",
    "    for t in range(Ty):\n",
    "        s, _, c = LSTM_cell_layer1(a, initial_state=[s, c])\n",
    "        out = densor(s)\n",
    "        outputs.append(out)\n",
    "        a = out\n",
    "        \n",
    "    model = Model([X, s0, c0], outputs)\n",
    "    \n",
    "    return model"
   ]
  },
  {
   "cell_type": "code",
   "execution_count": null,
   "metadata": {},
   "outputs": [],
   "source": [
    "model = lstmModel1LayerTrain(Tx, Ty, n_h, n_a, n_values)\n",
    "\n",
    "model.save_weights(\"model.h5\")"
   ]
  },
  {
   "cell_type": "code",
   "execution_count": null,
   "metadata": {},
   "outputs": [],
   "source": [
    "opt = Adam(lr=0.01, beta_1=0.9, beta_2=0.999, decay=0.01)\n",
    "\n",
    "model.compile(optimizer=opt, loss='mean_squared_error', metrics=['accuracy'])"
   ]
  },
  {
   "cell_type": "code",
   "execution_count": null,
   "metadata": {},
   "outputs": [],
   "source": [
    "a0 = np.zeros((M, n_h))\n",
    "c0 = np.zeros((M, n_h))"
   ]
  },
  {
   "cell_type": "code",
   "execution_count": null,
   "metadata": {},
   "outputs": [],
   "source": [
    "NUM_EPOCHS = 20\n",
    "BATCH_SIZE = 2\n",
    "\n",
    "callbacks = [\n",
    "    Tensorboard(write_grads=True)\n",
    "]\n",
    "model.fit([X_train, a0, c0], list(Y_train), epochs=NUM_EPOCHS, batch_size=BATCH_SIZE, callbacks=callbacks)"
   ]
  },
  {
   "cell_type": "code",
   "execution_count": null,
   "metadata": {},
   "outputs": [],
   "source": [
    "model.evaluate(X_test, Y_test, batch_size=BATCH_SIZE)"
   ]
  },
  {
   "cell_type": "code",
   "execution_count": null,
   "metadata": {},
   "outputs": [],
   "source": [
    "X_predict = utils.getPredictingData()\n",
    "\n",
    "print model.predict(X_predict)"
   ]
  }
 ],
 "metadata": {
  "kernelspec": {
   "display_name": "Python 2",
   "language": "python",
   "name": "python2"
  },
  "language_info": {
   "codemirror_mode": {
    "name": "ipython",
    "version": 2
   },
   "file_extension": ".py",
   "mimetype": "text/x-python",
   "name": "python",
   "nbconvert_exporter": "python",
   "pygments_lexer": "ipython2",
   "version": "2.7.12"
  }
 },
 "nbformat": 4,
 "nbformat_minor": 2
}
