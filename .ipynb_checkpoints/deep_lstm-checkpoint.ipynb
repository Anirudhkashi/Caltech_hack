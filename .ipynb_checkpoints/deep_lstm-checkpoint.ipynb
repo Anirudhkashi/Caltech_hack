{
 "cells": [
  {
   "cell_type": "code",
   "execution_count": 1,
   "metadata": {},
   "outputs": [
    {
     "name": "stderr",
     "output_type": "stream",
     "text": [
      "Using TensorFlow backend.\n"
     ]
    }
   ],
   "source": [
    "import tensorflow as tf\n",
    "import numpy as np\n",
    "import utils\n",
    "import sys\n",
    "\n",
    "import keras\n",
    "from keras.layers import Input, LSTM, Reshape, Dense, Lambda\n",
    "from keras.optimizers import Adam\n",
    "from keras.models import Model"
   ]
  },
  {
   "cell_type": "code",
   "execution_count": 2,
   "metadata": {},
   "outputs": [],
   "source": [
    "def lstmModel1Layer(Tx, n_h , n_values):\n",
    "    \n",
    "    X_inp = Input(shape=(Tx, n_values))\n",
    "    \n",
    "    a0 = Input(shape=(n_h,), name='a0')\n",
    "    c0 = Input(shape=(n_h,), name='c0')\n",
    "    a = a0\n",
    "    c = c0\n",
    "    \n",
    "    outputs = []\n",
    "    \n",
    "    for t in range(Tx):\n",
    "        \n",
    "        x = Lambda(lambda x: X_inp[:, t,:])(X_inp)\n",
    "        x = reshapor(x)\n",
    "        a, _, c = LSTM_cell_layer1(x, initial_state=[a, c])\n",
    "        out = densor(a)\n",
    "        outputs.append(out)\n",
    "        \n",
    "    model = Model([X_inp, a0, c0], outputs)\n",
    "    \n",
    "    return model"
   ]
  },
  {
   "cell_type": "code",
   "execution_count": 11,
   "metadata": {},
   "outputs": [
    {
     "name": "stdout",
     "output_type": "stream",
     "text": [
      "Epoch 1/20\n",
      "25/25 [==============================] - 7s 288ms/step - loss: 8.4689 - dense_8_loss_1: 0.5575 - dense_8_loss_2: 0.5485 - dense_8_loss_3: 0.5778 - dense_8_loss_4: 0.5719 - dense_8_loss_5: 0.5290 - dense_8_loss_6: 0.5351 - dense_8_loss_7: 0.5512 - dense_8_loss_8: 0.5681 - dense_8_loss_9: 0.5934 - dense_8_loss_10: 0.5980 - dense_8_loss_11: 0.5690 - dense_8_loss_12: 0.5497 - dense_8_loss_13: 0.6431 - dense_8_loss_14: 0.5577 - dense_8_loss_15: 0.5188 - dense_8_acc_1: 0.8400 - dense_8_acc_2: 0.8800 - dense_8_acc_3: 0.7600 - dense_8_acc_4: 0.8000 - dense_8_acc_5: 0.7600 - dense_8_acc_6: 0.8400 - dense_8_acc_7: 0.8400 - dense_8_acc_8: 0.8000 - dense_8_acc_9: 0.7200 - dense_8_acc_10: 0.7200 - dense_8_acc_11: 0.8400 - dense_8_acc_12: 0.8800 - dense_8_acc_13: 0.6400 - dense_8_acc_14: 0.8800 - dense_8_acc_15: 0.8000\n",
      "Epoch 2/20\n",
      "25/25 [==============================] - 0s 2ms/step - loss: 7.1456 - dense_8_loss_1: 0.4590 - dense_8_loss_2: 0.4464 - dense_8_loss_3: 0.4789 - dense_8_loss_4: 0.5096 - dense_8_loss_5: 0.4501 - dense_8_loss_6: 0.4530 - dense_8_loss_7: 0.4845 - dense_8_loss_8: 0.4857 - dense_8_loss_9: 0.5132 - dense_8_loss_10: 0.5174 - dense_8_loss_11: 0.4724 - dense_8_loss_12: 0.4325 - dense_8_loss_13: 0.5216 - dense_8_loss_14: 0.4749 - dense_8_loss_15: 0.4465 - dense_8_acc_1: 1.0000 - dense_8_acc_2: 1.0000 - dense_8_acc_3: 0.8400 - dense_8_acc_4: 0.8000 - dense_8_acc_5: 0.9200 - dense_8_acc_6: 0.9600 - dense_8_acc_7: 0.8800 - dense_8_acc_8: 0.8000 - dense_8_acc_9: 0.6800 - dense_8_acc_10: 0.8000 - dense_8_acc_11: 0.8800 - dense_8_acc_12: 0.9600 - dense_8_acc_13: 0.7600 - dense_8_acc_14: 0.9200 - dense_8_acc_15: 1.0000\n",
      "Epoch 3/20\n",
      "25/25 [==============================] - 0s 2ms/step - loss: 6.1387 - dense_8_loss_1: 0.3972 - dense_8_loss_2: 0.3881 - dense_8_loss_3: 0.4087 - dense_8_loss_4: 0.4655 - dense_8_loss_5: 0.3639 - dense_8_loss_6: 0.4064 - dense_8_loss_7: 0.4446 - dense_8_loss_8: 0.4003 - dense_8_loss_9: 0.4303 - dense_8_loss_10: 0.4394 - dense_8_loss_11: 0.3786 - dense_8_loss_12: 0.3884 - dense_8_loss_13: 0.4380 - dense_8_loss_14: 0.4137 - dense_8_loss_15: 0.3757 - dense_8_acc_1: 1.0000 - dense_8_acc_2: 1.0000 - dense_8_acc_3: 0.9200 - dense_8_acc_4: 0.8000 - dense_8_acc_5: 1.0000 - dense_8_acc_6: 0.9600 - dense_8_acc_7: 0.8800 - dense_8_acc_8: 0.9600 - dense_8_acc_9: 0.8400 - dense_8_acc_10: 0.9200 - dense_8_acc_11: 0.9200 - dense_8_acc_12: 0.9600 - dense_8_acc_13: 0.8800 - dense_8_acc_14: 0.9600 - dense_8_acc_15: 1.0000\n",
      "Epoch 4/20\n",
      "25/25 [==============================] - 0s 2ms/step - loss: 5.1328 - dense_8_loss_1: 0.3450 - dense_8_loss_2: 0.3175 - dense_8_loss_3: 0.3456 - dense_8_loss_4: 0.4027 - dense_8_loss_5: 0.2988 - dense_8_loss_6: 0.3425 - dense_8_loss_7: 0.3951 - dense_8_loss_8: 0.3281 - dense_8_loss_9: 0.3092 - dense_8_loss_10: 0.3898 - dense_8_loss_11: 0.2999 - dense_8_loss_12: 0.3312 - dense_8_loss_13: 0.3596 - dense_8_loss_14: 0.3578 - dense_8_loss_15: 0.3100 - dense_8_acc_1: 1.0000 - dense_8_acc_2: 1.0000 - dense_8_acc_3: 0.9600 - dense_8_acc_4: 0.8800 - dense_8_acc_5: 1.0000 - dense_8_acc_6: 0.9600 - dense_8_acc_7: 0.8800 - dense_8_acc_8: 0.9600 - dense_8_acc_9: 0.9200 - dense_8_acc_10: 0.9200 - dense_8_acc_11: 0.9600 - dense_8_acc_12: 0.9600 - dense_8_acc_13: 0.9600 - dense_8_acc_14: 0.9600 - dense_8_acc_15: 1.0000\n",
      "Epoch 5/20\n",
      "25/25 [==============================] - 0s 2ms/step - loss: 4.4062 - dense_8_loss_1: 0.3009 - dense_8_loss_2: 0.2677 - dense_8_loss_3: 0.2888 - dense_8_loss_4: 0.3232 - dense_8_loss_5: 0.2626 - dense_8_loss_6: 0.3165 - dense_8_loss_7: 0.3531 - dense_8_loss_8: 0.2569 - dense_8_loss_9: 0.2849 - dense_8_loss_10: 0.3397 - dense_8_loss_11: 0.2504 - dense_8_loss_12: 0.2999 - dense_8_loss_13: 0.3034 - dense_8_loss_14: 0.3131 - dense_8_loss_15: 0.2451 - dense_8_acc_1: 1.0000 - dense_8_acc_2: 1.0000 - dense_8_acc_3: 0.9600 - dense_8_acc_4: 0.9200 - dense_8_acc_5: 1.0000 - dense_8_acc_6: 0.9600 - dense_8_acc_7: 0.9200 - dense_8_acc_8: 1.0000 - dense_8_acc_9: 0.9200 - dense_8_acc_10: 0.9200 - dense_8_acc_11: 0.9600 - dense_8_acc_12: 0.9200 - dense_8_acc_13: 0.9600 - dense_8_acc_14: 0.9600 - dense_8_acc_15: 1.0000\n",
      "Epoch 6/20\n",
      "25/25 [==============================] - 0s 2ms/step - loss: 3.8789 - dense_8_loss_1: 0.2672 - dense_8_loss_2: 0.2250 - dense_8_loss_3: 0.2375 - dense_8_loss_4: 0.2841 - dense_8_loss_5: 0.2137 - dense_8_loss_6: 0.2807 - dense_8_loss_7: 0.3221 - dense_8_loss_8: 0.2264 - dense_8_loss_9: 0.2498 - dense_8_loss_10: 0.3046 - dense_8_loss_11: 0.2152 - dense_8_loss_12: 0.2830 - dense_8_loss_13: 0.2889 - dense_8_loss_14: 0.2732 - dense_8_loss_15: 0.2075 - dense_8_acc_1: 1.0000 - dense_8_acc_2: 1.0000 - dense_8_acc_3: 1.0000 - dense_8_acc_4: 0.9200 - dense_8_acc_5: 1.0000 - dense_8_acc_6: 0.9600 - dense_8_acc_7: 0.9200 - dense_8_acc_8: 1.0000 - dense_8_acc_9: 0.9200 - dense_8_acc_10: 0.9200 - dense_8_acc_11: 1.0000 - dense_8_acc_12: 0.9200 - dense_8_acc_13: 0.9600 - dense_8_acc_14: 0.9600 - dense_8_acc_15: 1.0000\n",
      "Epoch 7/20\n",
      "25/25 [==============================] - 0s 2ms/step - loss: 3.4799 - dense_8_loss_1: 0.2360 - dense_8_loss_2: 0.1952 - dense_8_loss_3: 0.1967 - dense_8_loss_4: 0.2474 - dense_8_loss_5: 0.1896 - dense_8_loss_6: 0.2606 - dense_8_loss_7: 0.3112 - dense_8_loss_8: 0.2036 - dense_8_loss_9: 0.2158 - dense_8_loss_10: 0.2791 - dense_8_loss_11: 0.1947 - dense_8_loss_12: 0.2650 - dense_8_loss_13: 0.2533 - dense_8_loss_14: 0.2503 - dense_8_loss_15: 0.1814 - dense_8_acc_1: 1.0000 - dense_8_acc_2: 1.0000 - dense_8_acc_3: 1.0000 - dense_8_acc_4: 0.9600 - dense_8_acc_5: 1.0000 - dense_8_acc_6: 0.9600 - dense_8_acc_7: 0.9200 - dense_8_acc_8: 1.0000 - dense_8_acc_9: 1.0000 - dense_8_acc_10: 0.9600 - dense_8_acc_11: 1.0000 - dense_8_acc_12: 0.9200 - dense_8_acc_13: 0.9600 - dense_8_acc_14: 0.9600 - dense_8_acc_15: 1.0000\n",
      "Epoch 8/20\n",
      "25/25 [==============================] - 0s 2ms/step - loss: 3.2236 - dense_8_loss_1: 0.2181 - dense_8_loss_2: 0.1785 - dense_8_loss_3: 0.1712 - dense_8_loss_4: 0.2357 - dense_8_loss_5: 0.1699 - dense_8_loss_6: 0.2419 - dense_8_loss_7: 0.3065 - dense_8_loss_8: 0.1776 - dense_8_loss_9: 0.1854 - dense_8_loss_10: 0.2543 - dense_8_loss_11: 0.1751 - dense_8_loss_12: 0.2669 - dense_8_loss_13: 0.2390 - dense_8_loss_14: 0.2355 - dense_8_loss_15: 0.1681 - dense_8_acc_1: 1.0000 - dense_8_acc_2: 1.0000 - dense_8_acc_3: 1.0000 - dense_8_acc_4: 0.9600 - dense_8_acc_5: 1.0000 - dense_8_acc_6: 0.9600 - dense_8_acc_7: 0.9200 - dense_8_acc_8: 1.0000 - dense_8_acc_9: 1.0000 - dense_8_acc_10: 0.9600 - dense_8_acc_11: 1.0000 - dense_8_acc_12: 0.9200 - dense_8_acc_13: 0.9600 - dense_8_acc_14: 0.9600 - dense_8_acc_15: 1.0000\n",
      "Epoch 9/20\n",
      "25/25 [==============================] - 0s 2ms/step - loss: 3.0360 - dense_8_loss_1: 0.2001 - dense_8_loss_2: 0.1627 - dense_8_loss_3: 0.1559 - dense_8_loss_4: 0.2394 - dense_8_loss_5: 0.1575 - dense_8_loss_6: 0.2310 - dense_8_loss_7: 0.2954 - dense_8_loss_8: 0.1582 - dense_8_loss_9: 0.1679 - dense_8_loss_10: 0.2293 - dense_8_loss_11: 0.1620 - dense_8_loss_12: 0.2635 - dense_8_loss_13: 0.2350 - dense_8_loss_14: 0.2246 - dense_8_loss_15: 0.1535 - dense_8_acc_1: 1.0000 - dense_8_acc_2: 1.0000 - dense_8_acc_3: 1.0000 - dense_8_acc_4: 0.9600 - dense_8_acc_5: 1.0000 - dense_8_acc_6: 0.9600 - dense_8_acc_7: 0.9200 - dense_8_acc_8: 1.0000 - dense_8_acc_9: 1.0000 - dense_8_acc_10: 0.9600 - dense_8_acc_11: 1.0000 - dense_8_acc_12: 0.9200 - dense_8_acc_13: 0.9600 - dense_8_acc_14: 0.9600 - dense_8_acc_15: 1.0000\n",
      "Epoch 10/20\n",
      "25/25 [==============================] - 0s 2ms/step - loss: 2.9047 - dense_8_loss_1: 0.1900 - dense_8_loss_2: 0.1506 - dense_8_loss_3: 0.1460 - dense_8_loss_4: 0.2310 - dense_8_loss_5: 0.1477 - dense_8_loss_6: 0.2242 - dense_8_loss_7: 0.2916 - dense_8_loss_8: 0.1486 - dense_8_loss_9: 0.1564 - dense_8_loss_10: 0.2221 - dense_8_loss_11: 0.1529 - dense_8_loss_12: 0.2576 - dense_8_loss_13: 0.2237 - dense_8_loss_14: 0.2187 - dense_8_loss_15: 0.1434 - dense_8_acc_1: 1.0000 - dense_8_acc_2: 1.0000 - dense_8_acc_3: 1.0000 - dense_8_acc_4: 0.9600 - dense_8_acc_5: 1.0000 - dense_8_acc_6: 0.9600 - dense_8_acc_7: 0.9200 - dense_8_acc_8: 1.0000 - dense_8_acc_9: 1.0000 - dense_8_acc_10: 0.9600 - dense_8_acc_11: 1.0000 - dense_8_acc_12: 0.9200 - dense_8_acc_13: 0.9600 - dense_8_acc_14: 0.9600 - dense_8_acc_15: 1.0000\n"
     ]
    },
    {
     "name": "stdout",
     "output_type": "stream",
     "text": [
      "Epoch 11/20\n",
      "25/25 [==============================] - 0s 2ms/step - loss: 2.7868 - dense_8_loss_1: 0.1786 - dense_8_loss_2: 0.1403 - dense_8_loss_3: 0.1366 - dense_8_loss_4: 0.2229 - dense_8_loss_5: 0.1371 - dense_8_loss_6: 0.2167 - dense_8_loss_7: 0.2948 - dense_8_loss_8: 0.1408 - dense_8_loss_9: 0.1375 - dense_8_loss_10: 0.2144 - dense_8_loss_11: 0.1428 - dense_8_loss_12: 0.2623 - dense_8_loss_13: 0.2145 - dense_8_loss_14: 0.2133 - dense_8_loss_15: 0.1338 - dense_8_acc_1: 1.0000 - dense_8_acc_2: 1.0000 - dense_8_acc_3: 1.0000 - dense_8_acc_4: 0.9600 - dense_8_acc_5: 1.0000 - dense_8_acc_6: 0.9600 - dense_8_acc_7: 0.9200 - dense_8_acc_8: 1.0000 - dense_8_acc_9: 1.0000 - dense_8_acc_10: 0.9600 - dense_8_acc_11: 1.0000 - dense_8_acc_12: 0.9200 - dense_8_acc_13: 0.9600 - dense_8_acc_14: 0.9600 - dense_8_acc_15: 1.0000\n",
      "Epoch 12/20\n",
      "25/25 [==============================] - 0s 2ms/step - loss: 2.7089 - dense_8_loss_1: 0.1705 - dense_8_loss_2: 0.1332 - dense_8_loss_3: 0.1294 - dense_8_loss_4: 0.2169 - dense_8_loss_5: 0.1284 - dense_8_loss_6: 0.2098 - dense_8_loss_7: 0.2904 - dense_8_loss_8: 0.1336 - dense_8_loss_9: 0.1304 - dense_8_loss_10: 0.2081 - dense_8_loss_11: 0.1356 - dense_8_loss_12: 0.2799 - dense_8_loss_13: 0.2086 - dense_8_loss_14: 0.2076 - dense_8_loss_15: 0.1267 - dense_8_acc_1: 1.0000 - dense_8_acc_2: 1.0000 - dense_8_acc_3: 1.0000 - dense_8_acc_4: 0.9600 - dense_8_acc_5: 1.0000 - dense_8_acc_6: 0.9600 - dense_8_acc_7: 0.9200 - dense_8_acc_8: 1.0000 - dense_8_acc_9: 1.0000 - dense_8_acc_10: 0.9600 - dense_8_acc_11: 1.0000 - dense_8_acc_12: 0.9200 - dense_8_acc_13: 0.9600 - dense_8_acc_14: 0.9600 - dense_8_acc_15: 1.0000\n",
      "Epoch 13/20\n",
      "25/25 [==============================] - 0s 2ms/step - loss: 2.6107 - dense_8_loss_1: 0.1621 - dense_8_loss_2: 0.1249 - dense_8_loss_3: 0.1228 - dense_8_loss_4: 0.2124 - dense_8_loss_5: 0.1193 - dense_8_loss_6: 0.2025 - dense_8_loss_7: 0.2861 - dense_8_loss_8: 0.1210 - dense_8_loss_9: 0.1237 - dense_8_loss_10: 0.2037 - dense_8_loss_11: 0.1289 - dense_8_loss_12: 0.2775 - dense_8_loss_13: 0.2027 - dense_8_loss_14: 0.2032 - dense_8_loss_15: 0.1199 - dense_8_acc_1: 1.0000 - dense_8_acc_2: 1.0000 - dense_8_acc_3: 1.0000 - dense_8_acc_4: 0.9600 - dense_8_acc_5: 1.0000 - dense_8_acc_6: 0.9600 - dense_8_acc_7: 0.9200 - dense_8_acc_8: 1.0000 - dense_8_acc_9: 1.0000 - dense_8_acc_10: 0.9600 - dense_8_acc_11: 1.0000 - dense_8_acc_12: 0.9200 - dense_8_acc_13: 0.9600 - dense_8_acc_14: 0.9600 - dense_8_acc_15: 1.0000\n",
      "Epoch 14/20\n",
      "25/25 [==============================] - 0s 2ms/step - loss: 2.5311 - dense_8_loss_1: 0.1543 - dense_8_loss_2: 0.1181 - dense_8_loss_3: 0.1156 - dense_8_loss_4: 0.2084 - dense_8_loss_5: 0.1128 - dense_8_loss_6: 0.1986 - dense_8_loss_7: 0.2844 - dense_8_loss_8: 0.1147 - dense_8_loss_9: 0.1166 - dense_8_loss_10: 0.1998 - dense_8_loss_11: 0.1205 - dense_8_loss_12: 0.2755 - dense_8_loss_13: 0.1988 - dense_8_loss_14: 0.1993 - dense_8_loss_15: 0.1136 - dense_8_acc_1: 1.0000 - dense_8_acc_2: 1.0000 - dense_8_acc_3: 1.0000 - dense_8_acc_4: 0.9600 - dense_8_acc_5: 1.0000 - dense_8_acc_6: 0.9600 - dense_8_acc_7: 0.9200 - dense_8_acc_8: 1.0000 - dense_8_acc_9: 1.0000 - dense_8_acc_10: 0.9600 - dense_8_acc_11: 1.0000 - dense_8_acc_12: 0.9200 - dense_8_acc_13: 0.9600 - dense_8_acc_14: 0.9600 - dense_8_acc_15: 1.0000\n",
      "Epoch 15/20\n",
      "25/25 [==============================] - 0s 2ms/step - loss: 2.4632 - dense_8_loss_1: 0.1476 - dense_8_loss_2: 0.1124 - dense_8_loss_3: 0.1099 - dense_8_loss_4: 0.2037 - dense_8_loss_5: 0.1070 - dense_8_loss_6: 0.1951 - dense_8_loss_7: 0.2830 - dense_8_loss_8: 0.1088 - dense_8_loss_9: 0.1108 - dense_8_loss_10: 0.1963 - dense_8_loss_11: 0.1147 - dense_8_loss_12: 0.2761 - dense_8_loss_13: 0.1952 - dense_8_loss_14: 0.1946 - dense_8_loss_15: 0.1079 - dense_8_acc_1: 1.0000 - dense_8_acc_2: 1.0000 - dense_8_acc_3: 1.0000 - dense_8_acc_4: 0.9600 - dense_8_acc_5: 1.0000 - dense_8_acc_6: 0.9600 - dense_8_acc_7: 0.9200 - dense_8_acc_8: 1.0000 - dense_8_acc_9: 1.0000 - dense_8_acc_10: 0.9600 - dense_8_acc_11: 1.0000 - dense_8_acc_12: 0.9200 - dense_8_acc_13: 0.9600 - dense_8_acc_14: 0.9600 - dense_8_acc_15: 1.0000\n",
      "Epoch 16/20\n",
      "25/25 [==============================] - 0s 2ms/step - loss: 2.4038 - dense_8_loss_1: 0.1401 - dense_8_loss_2: 0.1070 - dense_8_loss_3: 0.1044 - dense_8_loss_4: 0.2002 - dense_8_loss_5: 0.1018 - dense_8_loss_6: 0.1920 - dense_8_loss_7: 0.2819 - dense_8_loss_8: 0.1033 - dense_8_loss_9: 0.1052 - dense_8_loss_10: 0.1931 - dense_8_loss_11: 0.1090 - dense_8_loss_12: 0.2804 - dense_8_loss_13: 0.1916 - dense_8_loss_14: 0.1911 - dense_8_loss_15: 0.1027 - dense_8_acc_1: 1.0000 - dense_8_acc_2: 1.0000 - dense_8_acc_3: 1.0000 - dense_8_acc_4: 0.9600 - dense_8_acc_5: 1.0000 - dense_8_acc_6: 0.9600 - dense_8_acc_7: 0.9200 - dense_8_acc_8: 1.0000 - dense_8_acc_9: 1.0000 - dense_8_acc_10: 0.9600 - dense_8_acc_11: 1.0000 - dense_8_acc_12: 0.9200 - dense_8_acc_13: 0.9600 - dense_8_acc_14: 0.9600 - dense_8_acc_15: 1.0000\n",
      "Epoch 17/20\n",
      "25/25 [==============================] - 0s 2ms/step - loss: 2.3437 - dense_8_loss_1: 0.1343 - dense_8_loss_2: 0.1021 - dense_8_loss_3: 0.0991 - dense_8_loss_4: 0.1970 - dense_8_loss_5: 0.0961 - dense_8_loss_6: 0.1887 - dense_8_loss_7: 0.2806 - dense_8_loss_8: 0.0984 - dense_8_loss_9: 0.0995 - dense_8_loss_10: 0.1902 - dense_8_loss_11: 0.1036 - dense_8_loss_12: 0.2796 - dense_8_loss_13: 0.1888 - dense_8_loss_14: 0.1882 - dense_8_loss_15: 0.0975 - dense_8_acc_1: 1.0000 - dense_8_acc_2: 1.0000 - dense_8_acc_3: 1.0000 - dense_8_acc_4: 0.9600 - dense_8_acc_5: 1.0000 - dense_8_acc_6: 0.9600 - dense_8_acc_7: 0.9200 - dense_8_acc_8: 1.0000 - dense_8_acc_9: 1.0000 - dense_8_acc_10: 0.9600 - dense_8_acc_11: 1.0000 - dense_8_acc_12: 0.9200 - dense_8_acc_13: 0.9600 - dense_8_acc_14: 0.9600 - dense_8_acc_15: 1.0000\n",
      "Epoch 18/20\n",
      "25/25 [==============================] - 0s 2ms/step - loss: 2.2880 - dense_8_loss_1: 0.1289 - dense_8_loss_2: 0.0975 - dense_8_loss_3: 0.0940 - dense_8_loss_4: 0.1943 - dense_8_loss_5: 0.0916 - dense_8_loss_6: 0.1856 - dense_8_loss_7: 0.2786 - dense_8_loss_8: 0.0937 - dense_8_loss_9: 0.0947 - dense_8_loss_10: 0.1872 - dense_8_loss_11: 0.0987 - dense_8_loss_12: 0.2790 - dense_8_loss_13: 0.1862 - dense_8_loss_14: 0.1854 - dense_8_loss_15: 0.0925 - dense_8_acc_1: 1.0000 - dense_8_acc_2: 1.0000 - dense_8_acc_3: 1.0000 - dense_8_acc_4: 0.9600 - dense_8_acc_5: 1.0000 - dense_8_acc_6: 0.9600 - dense_8_acc_7: 0.9200 - dense_8_acc_8: 1.0000 - dense_8_acc_9: 1.0000 - dense_8_acc_10: 0.9600 - dense_8_acc_11: 1.0000 - dense_8_acc_12: 0.9200 - dense_8_acc_13: 0.9600 - dense_8_acc_14: 0.9600 - dense_8_acc_15: 1.0000\n",
      "Epoch 19/20\n",
      "25/25 [==============================] - 0s 2ms/step - loss: 2.2354 - dense_8_loss_1: 0.1239 - dense_8_loss_2: 0.0926 - dense_8_loss_3: 0.0889 - dense_8_loss_4: 0.1916 - dense_8_loss_5: 0.0871 - dense_8_loss_6: 0.1817 - dense_8_loss_7: 0.2781 - dense_8_loss_8: 0.0893 - dense_8_loss_9: 0.0896 - dense_8_loss_10: 0.1849 - dense_8_loss_11: 0.0940 - dense_8_loss_12: 0.2782 - dense_8_loss_13: 0.1840 - dense_8_loss_14: 0.1831 - dense_8_loss_15: 0.0884 - dense_8_acc_1: 1.0000 - dense_8_acc_2: 1.0000 - dense_8_acc_3: 1.0000 - dense_8_acc_4: 0.9600 - dense_8_acc_5: 1.0000 - dense_8_acc_6: 0.9600 - dense_8_acc_7: 0.9200 - dense_8_acc_8: 1.0000 - dense_8_acc_9: 1.0000 - dense_8_acc_10: 0.9600 - dense_8_acc_11: 1.0000 - dense_8_acc_12: 0.9200 - dense_8_acc_13: 0.9600 - dense_8_acc_14: 0.9600 - dense_8_acc_15: 1.0000\n",
      "Epoch 20/20\n",
      "25/25 [==============================] - 0s 2ms/step - loss: 2.1857 - dense_8_loss_1: 0.1192 - dense_8_loss_2: 0.0880 - dense_8_loss_3: 0.0846 - dense_8_loss_4: 0.1886 - dense_8_loss_5: 0.0832 - dense_8_loss_6: 0.1792 - dense_8_loss_7: 0.2771 - dense_8_loss_8: 0.0850 - dense_8_loss_9: 0.0850 - dense_8_loss_10: 0.1828 - dense_8_loss_11: 0.0890 - dense_8_loss_12: 0.2780 - dense_8_loss_13: 0.1811 - dense_8_loss_14: 0.1811 - dense_8_loss_15: 0.0838 - dense_8_acc_1: 1.0000 - dense_8_acc_2: 1.0000 - dense_8_acc_3: 1.0000 - dense_8_acc_4: 0.9600 - dense_8_acc_5: 1.0000 - dense_8_acc_6: 0.9600 - dense_8_acc_7: 0.9200 - dense_8_acc_8: 1.0000 - dense_8_acc_9: 1.0000 - dense_8_acc_10: 0.9600 - dense_8_acc_11: 1.0000 - dense_8_acc_12: 0.9200 - dense_8_acc_13: 0.9600 - dense_8_acc_14: 0.9600 - dense_8_acc_15: 1.0000\n"
     ]
    },
    {
     "name": "stdout",
     "output_type": "stream",
     "text": [
      "\r",
      "6/6 [==============================] - 3s 435ms/step\n"
     ]
    },
    {
     "ename": "TypeError",
     "evalue": "Expected float32 passed to parameter 'y' of op 'Equal', got [array([['0'],\n       ['0'],\n       ['0'],\n       ['0'],\n       ['0'],\n       ['0']],\n      dtype='<U1'), array([['0'],\n       ['0'],\n       ['1'],\n       ['0'],\n       ['0'],\n       ['0']],\n      dtype='<U1'), array([['0'],\n       ['0'],\n       ['1'],\n       ['0'],\n       ['0'],\n       ['0']],\n      dtype='<U1'), array([['0'],\n       ['0'],\n       ['1'],\n       ['0'],\n       ['0'],\n       ['1']],\n      dtype='<U1'), array([['0'],\n       ['0'],\n       ['1'],\n       ['0'],\n       ['0'],\n       ['1']],\n      dtype='<U1'), array([['0'],\n       ['0'],\n       ['0'],\n       ['0'],\n       ['0'],\n       ['0']],\n      dtype='<U1'), array([['0'],\n       ['0'],\n       ['0'],\n       ['0'],\n       ['0'],\n       ['0']],\n      dtype='<U1'), array([['0'],\n       ['0'],\n       ['0'],\n       ['0'],\n       ['0'],\n       ['0']],\n      dtype='<U1'), array([['0'],\n       ['0'],\n       ['0'],\n       ['0'],\n       ['0'],\n       ['0']],\n      dtype='<U1'), array([['0'],\n       ['0'],\n       ['0'],\n       ['0'],\n       ['0'],\n       ['0']],\n      dtype='<U1'), array([['0'],\n       ['0'],\n       ['0'],\n       ['0'],\n       ['0'],\n       ['0']],\n      dtype='<U1'), array([['0'],\n       ['0'],\n       ['0'],\n       ['0'],\n       ['0'],\n       ['0']],\n      dtype='<U1'), array([['0'],\n       ['0'],\n       ['0'],\n       ['0'],\n       ['0'],\n       ['0']],\n      dtype='<U1'), array([['0'],\n       ['0'],\n       ['0'],\n       ['0'],\n       ['0'],\n       ['0']],\n      dtype='<U1'), array([['0'],\n       ['0'],\n       ['0'],\n       ['0'],\n       ['0'],\n       ['0']],\n      dtype='<U1')] of type 'list' instead.",
     "output_type": "error",
     "traceback": [
      "\u001b[0;31m----------------------------------------\u001b[0m",
      "\u001b[0;31mTypeError\u001b[0mTraceback (most recent call last)",
      "\u001b[0;32m/usr/local/lib/python3.5/dist-packages/tensorflow/python/framework/op_def_library.py\u001b[0m in \u001b[0;36m_apply_op_helper\u001b[0;34m(self, op_type_name, name, **keywords)\u001b[0m\n\u001b[1;32m    509\u001b[0m                 \u001b[0mas_ref\u001b[0m\u001b[0;34m=\u001b[0m\u001b[0minput_arg\u001b[0m\u001b[0;34m.\u001b[0m\u001b[0mis_ref\u001b[0m\u001b[0;34m,\u001b[0m\u001b[0;34m\u001b[0m\u001b[0m\n\u001b[0;32m--> 510\u001b[0;31m                 preferred_dtype=default_dtype)\n\u001b[0m\u001b[1;32m    511\u001b[0m           \u001b[0;32mexcept\u001b[0m \u001b[0mTypeError\u001b[0m \u001b[0;32mas\u001b[0m \u001b[0merr\u001b[0m\u001b[0;34m:\u001b[0m\u001b[0;34m\u001b[0m\u001b[0m\n",
      "\u001b[0;32m/usr/local/lib/python3.5/dist-packages/tensorflow/python/framework/ops.py\u001b[0m in \u001b[0;36minternal_convert_to_tensor\u001b[0;34m(value, dtype, name, as_ref, preferred_dtype, ctx)\u001b[0m\n\u001b[1;32m    925\u001b[0m     \u001b[0;32mif\u001b[0m \u001b[0mret\u001b[0m \u001b[0;32mis\u001b[0m \u001b[0;32mNone\u001b[0m\u001b[0;34m:\u001b[0m\u001b[0;34m\u001b[0m\u001b[0m\n\u001b[0;32m--> 926\u001b[0;31m       \u001b[0mret\u001b[0m \u001b[0;34m=\u001b[0m \u001b[0mconversion_func\u001b[0m\u001b[0;34m(\u001b[0m\u001b[0mvalue\u001b[0m\u001b[0;34m,\u001b[0m \u001b[0mdtype\u001b[0m\u001b[0;34m=\u001b[0m\u001b[0mdtype\u001b[0m\u001b[0;34m,\u001b[0m \u001b[0mname\u001b[0m\u001b[0;34m=\u001b[0m\u001b[0mname\u001b[0m\u001b[0;34m,\u001b[0m \u001b[0mas_ref\u001b[0m\u001b[0;34m=\u001b[0m\u001b[0mas_ref\u001b[0m\u001b[0;34m)\u001b[0m\u001b[0;34m\u001b[0m\u001b[0m\n\u001b[0m\u001b[1;32m    927\u001b[0m \u001b[0;34m\u001b[0m\u001b[0m\n",
      "\u001b[0;32m/usr/local/lib/python3.5/dist-packages/tensorflow/python/framework/constant_op.py\u001b[0m in \u001b[0;36m_constant_tensor_conversion_function\u001b[0;34m(v, dtype, name, as_ref)\u001b[0m\n\u001b[1;32m    228\u001b[0m   \u001b[0m_\u001b[0m \u001b[0;34m=\u001b[0m \u001b[0mas_ref\u001b[0m\u001b[0;34m\u001b[0m\u001b[0m\n\u001b[0;32m--> 229\u001b[0;31m   \u001b[0;32mreturn\u001b[0m \u001b[0mconstant\u001b[0m\u001b[0;34m(\u001b[0m\u001b[0mv\u001b[0m\u001b[0;34m,\u001b[0m \u001b[0mdtype\u001b[0m\u001b[0;34m=\u001b[0m\u001b[0mdtype\u001b[0m\u001b[0;34m,\u001b[0m \u001b[0mname\u001b[0m\u001b[0;34m=\u001b[0m\u001b[0mname\u001b[0m\u001b[0;34m)\u001b[0m\u001b[0;34m\u001b[0m\u001b[0m\n\u001b[0m\u001b[1;32m    230\u001b[0m \u001b[0;34m\u001b[0m\u001b[0m\n",
      "\u001b[0;32m/usr/local/lib/python3.5/dist-packages/tensorflow/python/framework/constant_op.py\u001b[0m in \u001b[0;36mconstant\u001b[0;34m(value, dtype, shape, name, verify_shape)\u001b[0m\n\u001b[1;32m    207\u001b[0m       tensor_util.make_tensor_proto(\n\u001b[0;32m--> 208\u001b[0;31m           value, dtype=dtype, shape=shape, verify_shape=verify_shape))\n\u001b[0m\u001b[1;32m    209\u001b[0m   \u001b[0mdtype_value\u001b[0m \u001b[0;34m=\u001b[0m \u001b[0mattr_value_pb2\u001b[0m\u001b[0;34m.\u001b[0m\u001b[0mAttrValue\u001b[0m\u001b[0;34m(\u001b[0m\u001b[0mtype\u001b[0m\u001b[0;34m=\u001b[0m\u001b[0mtensor_value\u001b[0m\u001b[0;34m.\u001b[0m\u001b[0mtensor\u001b[0m\u001b[0;34m.\u001b[0m\u001b[0mdtype\u001b[0m\u001b[0;34m)\u001b[0m\u001b[0;34m\u001b[0m\u001b[0m\n",
      "\u001b[0;32m/usr/local/lib/python3.5/dist-packages/tensorflow/python/framework/tensor_util.py\u001b[0m in \u001b[0;36mmake_tensor_proto\u001b[0;34m(values, dtype, shape, verify_shape)\u001b[0m\n\u001b[1;32m    382\u001b[0m     \u001b[0;32melse\u001b[0m\u001b[0;34m:\u001b[0m\u001b[0;34m\u001b[0m\u001b[0m\n\u001b[0;32m--> 383\u001b[0;31m       \u001b[0m_AssertCompatible\u001b[0m\u001b[0;34m(\u001b[0m\u001b[0mvalues\u001b[0m\u001b[0;34m,\u001b[0m \u001b[0mdtype\u001b[0m\u001b[0;34m)\u001b[0m\u001b[0;34m\u001b[0m\u001b[0m\n\u001b[0m\u001b[1;32m    384\u001b[0m       \u001b[0mnparray\u001b[0m \u001b[0;34m=\u001b[0m \u001b[0mnp\u001b[0m\u001b[0;34m.\u001b[0m\u001b[0marray\u001b[0m\u001b[0;34m(\u001b[0m\u001b[0mvalues\u001b[0m\u001b[0;34m,\u001b[0m \u001b[0mdtype\u001b[0m\u001b[0;34m=\u001b[0m\u001b[0mnp_dt\u001b[0m\u001b[0;34m)\u001b[0m\u001b[0;34m\u001b[0m\u001b[0m\n",
      "\u001b[0;32m/usr/local/lib/python3.5/dist-packages/tensorflow/python/framework/tensor_util.py\u001b[0m in \u001b[0;36m_AssertCompatible\u001b[0;34m(values, dtype)\u001b[0m\n\u001b[1;32m    302\u001b[0m       raise TypeError(\"Expected %s, got %s of type '%s' instead.\" %\n\u001b[0;32m--> 303\u001b[0;31m                       (dtype.name, repr(mismatch), type(mismatch).__name__))\n\u001b[0m\u001b[1;32m    304\u001b[0m \u001b[0;34m\u001b[0m\u001b[0m\n",
      "\u001b[0;31mTypeError\u001b[0m: Expected float32, got array([['0'],\n       ['0'],\n       ['0'],\n       ['0'],\n       ['0'],\n       ['0']],\n      dtype='<U1') of type 'ndarray' instead.",
      "\nDuring handling of the above exception, another exception occurred:\n",
      "\u001b[0;31mTypeError\u001b[0mTraceback (most recent call last)",
      "\u001b[0;32m<ipython-input-11-7ddf6e972bf0>\u001b[0m in \u001b[0;36m<module>\u001b[0;34m()\u001b[0m\n\u001b[1;32m     36\u001b[0m \u001b[0;34m\u001b[0m\u001b[0m\n\u001b[1;32m     37\u001b[0m     \u001b[0mresult\u001b[0m \u001b[0;34m=\u001b[0m \u001b[0mmodel\u001b[0m\u001b[0;34m.\u001b[0m\u001b[0mevaluate\u001b[0m\u001b[0;34m(\u001b[0m\u001b[0;34m[\u001b[0m\u001b[0mX_test\u001b[0m\u001b[0;34m,\u001b[0m \u001b[0ma0\u001b[0m\u001b[0;34m,\u001b[0m \u001b[0mc0\u001b[0m\u001b[0;34m]\u001b[0m\u001b[0;34m,\u001b[0m \u001b[0mlist\u001b[0m\u001b[0;34m(\u001b[0m\u001b[0mY_test\u001b[0m\u001b[0;34m)\u001b[0m\u001b[0;34m)\u001b[0m\u001b[0;34m\u001b[0m\u001b[0m\n\u001b[0;32m---> 38\u001b[0;31m     \u001b[0mscores\u001b[0m \u001b[0;34m=\u001b[0m \u001b[0mtf\u001b[0m\u001b[0;34m.\u001b[0m\u001b[0mreduce_all\u001b[0m\u001b[0;34m(\u001b[0m\u001b[0mtf\u001b[0m\u001b[0;34m.\u001b[0m\u001b[0mequal\u001b[0m\u001b[0;34m(\u001b[0m\u001b[0mresult\u001b[0m\u001b[0;34m,\u001b[0m \u001b[0mlist\u001b[0m\u001b[0;34m(\u001b[0m\u001b[0mY_test\u001b[0m\u001b[0;34m)\u001b[0m\u001b[0;34m)\u001b[0m\u001b[0;34m)\u001b[0m\u001b[0;34m\u001b[0m\u001b[0m\n\u001b[0m\u001b[1;32m     39\u001b[0m     \u001b[0mprint\u001b[0m\u001b[0;34m(\u001b[0m\u001b[0mscores\u001b[0m\u001b[0;34m)\u001b[0m\u001b[0;34m\u001b[0m\u001b[0m\n\u001b[1;32m     40\u001b[0m     \u001b[0mcvscores\u001b[0m\u001b[0;34m.\u001b[0m\u001b[0mappend\u001b[0m\u001b[0;34m(\u001b[0m\u001b[0mscores\u001b[0m\u001b[0;34m)\u001b[0m\u001b[0;34m\u001b[0m\u001b[0m\n",
      "\u001b[0;32m/usr/local/lib/python3.5/dist-packages/tensorflow/python/ops/gen_math_ops.py\u001b[0m in \u001b[0;36mequal\u001b[0;34m(x, y, name)\u001b[0m\n\u001b[1;32m   1474\u001b[0m   \u001b[0;32mif\u001b[0m \u001b[0m_ctx\u001b[0m\u001b[0;34m.\u001b[0m\u001b[0min_graph_mode\u001b[0m\u001b[0;34m(\u001b[0m\u001b[0;34m)\u001b[0m\u001b[0;34m:\u001b[0m\u001b[0;34m\u001b[0m\u001b[0m\n\u001b[1;32m   1475\u001b[0m     _, _, _op = _op_def_lib._apply_op_helper(\n\u001b[0;32m-> 1476\u001b[0;31m         \"Equal\", x=x, y=y, name=name)\n\u001b[0m\u001b[1;32m   1477\u001b[0m     \u001b[0m_result\u001b[0m \u001b[0;34m=\u001b[0m \u001b[0m_op\u001b[0m\u001b[0;34m.\u001b[0m\u001b[0moutputs\u001b[0m\u001b[0;34m[\u001b[0m\u001b[0;34m:\u001b[0m\u001b[0;34m]\u001b[0m\u001b[0;34m\u001b[0m\u001b[0m\n\u001b[1;32m   1478\u001b[0m     \u001b[0m_inputs_flat\u001b[0m \u001b[0;34m=\u001b[0m \u001b[0m_op\u001b[0m\u001b[0;34m.\u001b[0m\u001b[0minputs\u001b[0m\u001b[0;34m\u001b[0m\u001b[0m\n",
      "\u001b[0;32m/usr/local/lib/python3.5/dist-packages/tensorflow/python/framework/op_def_library.py\u001b[0m in \u001b[0;36m_apply_op_helper\u001b[0;34m(self, op_type_name, name, **keywords)\u001b[0m\n\u001b[1;32m    517\u001b[0m                   \u001b[0;34m\"type '%s' instead.\"\u001b[0m \u001b[0;34m%\u001b[0m\u001b[0;34m\u001b[0m\u001b[0m\n\u001b[1;32m    518\u001b[0m                   (dtypes.as_dtype(dtype).name, input_arg.name, op_type_name,\n\u001b[0;32m--> 519\u001b[0;31m                    repr(values), type(values).__name__))\n\u001b[0m\u001b[1;32m    520\u001b[0m           \u001b[0;32mexcept\u001b[0m \u001b[0mValueError\u001b[0m\u001b[0;34m:\u001b[0m\u001b[0;34m\u001b[0m\u001b[0m\n\u001b[1;32m    521\u001b[0m             \u001b[0;31m# What type does convert_to_tensor think it has?\u001b[0m\u001b[0;34m\u001b[0m\u001b[0;34m\u001b[0m\u001b[0m\n",
      "\u001b[0;31mTypeError\u001b[0m: Expected float32 passed to parameter 'y' of op 'Equal', got [array([['0'],\n       ['0'],\n       ['0'],\n       ['0'],\n       ['0'],\n       ['0']],\n      dtype='<U1'), array([['0'],\n       ['0'],\n       ['1'],\n       ['0'],\n       ['0'],\n       ['0']],\n      dtype='<U1'), array([['0'],\n       ['0'],\n       ['1'],\n       ['0'],\n       ['0'],\n       ['0']],\n      dtype='<U1'), array([['0'],\n       ['0'],\n       ['1'],\n       ['0'],\n       ['0'],\n       ['1']],\n      dtype='<U1'), array([['0'],\n       ['0'],\n       ['1'],\n       ['0'],\n       ['0'],\n       ['1']],\n      dtype='<U1'), array([['0'],\n       ['0'],\n       ['0'],\n       ['0'],\n       ['0'],\n       ['0']],\n      dtype='<U1'), array([['0'],\n       ['0'],\n       ['0'],\n       ['0'],\n       ['0'],\n       ['0']],\n      dtype='<U1'), array([['0'],\n       ['0'],\n       ['0'],\n       ['0'],\n       ['0'],\n       ['0']],\n      dtype='<U1'), array([['0'],\n       ['0'],\n       ['0'],\n       ['0'],\n       ['0'],\n       ['0']],\n      dtype='<U1'), array([['0'],\n       ['0'],\n       ['0'],\n       ['0'],\n       ['0'],\n       ['0']],\n      dtype='<U1'), array([['0'],\n       ['0'],\n       ['0'],\n       ['0'],\n       ['0'],\n       ['0']],\n      dtype='<U1'), array([['0'],\n       ['0'],\n       ['0'],\n       ['0'],\n       ['0'],\n       ['0']],\n      dtype='<U1'), array([['0'],\n       ['0'],\n       ['0'],\n       ['0'],\n       ['0'],\n       ['0']],\n      dtype='<U1'), array([['0'],\n       ['0'],\n       ['0'],\n       ['0'],\n       ['0'],\n       ['0']],\n      dtype='<U1'), array([['0'],\n       ['0'],\n       ['0'],\n       ['0'],\n       ['0'],\n       ['0']],\n      dtype='<U1')] of type 'list' instead."
     ]
    }
   ],
   "source": [
    "max_model = None\n",
    "max_score = -sys.maxsize - 1\n",
    "\n",
    "n_h = 16\n",
    "folds = 5\n",
    "\n",
    "NUM_EPOCHS = 20\n",
    "cvscores = []\n",
    "\n",
    "opt = Adam(lr=0.01, beta_1=0.9, beta_2=0.999, decay=0.01)\n",
    "\n",
    "for i in range(1, folds+1):\n",
    "\n",
    "    # Input shape (M, T, P)\n",
    "    X_train, Y_train, X_test, Y_test = utils.getAnnotation(cross_validation=i)\n",
    "    \n",
    "    M, Tx, n_values = X_train.shape\n",
    "    Ty = Tx\n",
    "    \n",
    "    reshapor = Reshape((1, n_values))\n",
    "    LSTM_cell_layer1 = LSTM(n_h, return_state = True)\n",
    "    densor = Dense(1, activation='sigmoid')\n",
    "    \n",
    "    model = lstmModel1Layer(Tx, n_h, n_values)\n",
    "    \n",
    "    model.compile(optimizer=opt, loss='binary_crossentropy', metrics=['accuracy'])\n",
    "    \n",
    "    a0 = np.zeros((M, n_h))\n",
    "    c0 = np.zeros((M, n_h))\n",
    " \n",
    "    model.fit([X_train, a0, c0], list(Y_train), epochs=NUM_EPOCHS)\n",
    "    \n",
    "    M = X_test.shape[0]\n",
    "    a0 = np.zeros((M, n_h))\n",
    "    c0 = np.zeros((M, n_h))\n",
    "    \n",
    "    result = model.evaluate([X_test, a0, c0], list(Y_test))\n",
    "    correct_prediction = tf.equal(tf.argmax(result,1), tf.argmax(list(Y_test),1))\n",
    "    accuracy = tf.reduce_mean(tf.cast(correct_prediction, \"float\"))\n",
    "    print(accuracy)\n",
    "    cvscores.append(accuracy)\n",
    "    \n",
    "#     if scores > max_score:\n",
    "#         max_model = model\n",
    "#         max_score = score\n",
    "        \n",
    "#     if i == 1:\n",
    "#         max_model = model\n",
    "#         model.summary()\n",
    "    \n",
    "print(\"Accuracy = \" + str(np.mean(cvscores)))"
   ]
  },
  {
   "cell_type": "code",
   "execution_count": null,
   "metadata": {},
   "outputs": [],
   "source": [
    "X_predict = utils.getPredictingData()\n",
    "\n",
    "out = max_model.predict(X_predict)\n",
    "print out"
   ]
  },
  {
   "cell_type": "code",
   "execution_count": null,
   "metadata": {},
   "outputs": [],
   "source": []
  }
 ],
 "metadata": {
  "kernelspec": {
   "display_name": "Python 3",
   "language": "python",
   "name": "python3"
  },
  "language_info": {
   "codemirror_mode": {
    "name": "ipython",
    "version": 3
   },
   "file_extension": ".py",
   "mimetype": "text/x-python",
   "name": "python",
   "nbconvert_exporter": "python",
   "pygments_lexer": "ipython3",
   "version": "3.5.2"
  }
 },
 "nbformat": 4,
 "nbformat_minor": 2
}
